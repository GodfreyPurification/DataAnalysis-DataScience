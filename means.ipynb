{
 "cells": [
  {
   "cell_type": "code",
   "execution_count": 1,
   "id": "266b4711-c542-4341-871f-047f5d637e29",
   "metadata": {},
   "outputs": [
    {
     "name": "stdout",
     "output_type": "stream",
     "text": [
      "Math Scores:\n",
      "Mean: 66.089\n",
      "Median: 66.0\n",
      "Mode: 65\n",
      "\n",
      "Reading Scores:\n",
      "Mean: 69.169\n",
      "Median: 70.0\n",
      "Mode: 72\n",
      "\n",
      "Writing Scores:\n",
      "Mean: 68.054\n",
      "Median: 69.0\n",
      "Mode: 74\n",
      "\n"
     ]
    }
   ],
   "source": [
    "import pandas as pd\n",
    "\n",
    "# Load the CSV file into a pandas DataFrame\n",
    "df = pd.read_csv(\"StudentsPerformance.csv\")\n",
    "\n",
    "# Display mean, median, and mode for math scores\n",
    "math_mean = df['math score'].mean()\n",
    "math_median = df['math score'].median()\n",
    "math_mode = df['math score'].mode().iloc[0]  # Mode returns a Series, so we need to use iloc[0]\n",
    "\n",
    "print(f\"Math Scores:\\nMean: {math_mean}\\nMedian: {math_median}\\nMode: {math_mode}\\n\")\n",
    "\n",
    "# Display mean, median, and mode for reading scores\n",
    "reading_mean = df['reading score'].mean()\n",
    "reading_median = df['reading score'].median()\n",
    "reading_mode = df['reading score'].mode().iloc[0]\n",
    "\n",
    "print(f\"Reading Scores:\\nMean: {reading_mean}\\nMedian: {reading_median}\\nMode: {reading_mode}\\n\")\n",
    "\n",
    "# Display mean, median, and mode for writing scores\n",
    "writing_mean = df['writing score'].mean()\n",
    "writing_median = df['writing score'].median()\n",
    "writing_mode = df['writing score'].mode().iloc[0]\n",
    "\n",
    "print(f\"Writing Scores:\\nMean: {writing_mean}\\nMedian: {writing_median}\\nMode: {writing_mode}\\n\")\n"
   ]
  },
  {
   "cell_type": "code",
   "execution_count": 2,
   "id": "29ebc6d5-28b4-4379-b2c1-54524b746c3c",
   "metadata": {},
   "outputs": [
    {
     "name": "stdout",
     "output_type": "stream",
     "text": [
      "Math Scores Standard Deviation: 15.16308009600945\n",
      "Reading Scores Standard Deviation: 14.600191937252216\n",
      "Writing Scores Standard Deviation: 15.19565701086965\n"
     ]
    }
   ],
   "source": [
    "import pandas as pd\n",
    "\n",
    "# Load the CSV file into a pandas DataFrame\n",
    "df = pd.read_csv(\"StudentsPerformance.csv\")\n",
    "\n",
    "# Display standard deviation for math scores\n",
    "math_std = df['math score'].std()\n",
    "print(f\"Math Scores Standard Deviation: {math_std}\")\n",
    "\n",
    "# Display standard deviation for reading scores\n",
    "reading_std = df['reading score'].std()\n",
    "print(f\"Reading Scores Standard Deviation: {reading_std}\")\n",
    "\n",
    "# Display standard deviation for writing scores\n",
    "writing_std = df['writing score'].std()\n",
    "print(f\"Writing Scores Standard Deviation: {writing_std}\")"
   ]
  },
  {
   "cell_type": "code",
   "execution_count": 3,
   "id": "8aad62f5-a1ef-4bea-9adc-875ffc8e1c4f",
   "metadata": {},
   "outputs": [
    {
     "name": "stdout",
     "output_type": "stream",
     "text": [
      "Math Scores T-statistic: 5.383245869828983, p-value: 9.120185549328822e-08\n",
      "Reading Scores T-statistic: -7.959308005187657, p-value: 4.680538743933289e-15\n",
      "Writing Scores T-statistic: -9.979557910004507, p-value: 2.019877706867934e-22\n"
     ]
    }
   ],
   "source": [
    "import pandas as pd\n",
    "from scipy.stats import ttest_ind\n",
    "\n",
    "# Load the CSV file into a pandas DataFrame\n",
    "df = pd.read_csv(\"StudentsPerformance.csv\")\n",
    "\n",
    "# Separate data for male and female students\n",
    "male_math_scores = df[df['gender'] == 'male']['math score']\n",
    "female_math_scores = df[df['gender'] == 'female']['math score']\n",
    "\n",
    "male_reading_scores = df[df['gender'] == 'male']['reading score']\n",
    "female_reading_scores = df[df['gender'] == 'female']['reading score']\n",
    "\n",
    "male_writing_scores = df[df['gender'] == 'male']['writing score']\n",
    "female_writing_scores = df[df['gender'] == 'female']['writing score']\n",
    "\n",
    "# Perform t-test for math scores\n",
    "math_t_stat, math_p_value = ttest_ind(male_math_scores, female_math_scores)\n",
    "print(f\"Math Scores T-statistic: {math_t_stat}, p-value: {math_p_value}\")\n",
    "\n",
    "# Perform t-test for reading scores\n",
    "reading_t_stat, reading_p_value = ttest_ind(male_reading_scores, female_reading_scores)\n",
    "print(f\"Reading Scores T-statistic: {reading_t_stat}, p-value: {reading_p_value}\")\n",
    "\n",
    "# Perform t-test for writing scores\n",
    "writing_t_stat, writing_p_value = ttest_ind(male_writing_scores, female_writing_scores)\n",
    "print(f\"Writing Scores T-statistic: {writing_t_stat}, p-value: {writing_p_value}\")"
   ]
  },
  {
   "cell_type": "code",
   "execution_count": null,
   "id": "7ddc5291-ee17-4ef4-ae70-12303559a38b",
   "metadata": {},
   "outputs": [],
   "source": []
  }
 ],
 "metadata": {
  "kernelspec": {
   "display_name": "Python 3 (ipykernel)",
   "language": "python",
   "name": "python3"
  },
  "language_info": {
   "codemirror_mode": {
    "name": "ipython",
    "version": 3
   },
   "file_extension": ".py",
   "mimetype": "text/x-python",
   "name": "python",
   "nbconvert_exporter": "python",
   "pygments_lexer": "ipython3",
   "version": "3.11.0"
  },
  "widgets": {
   "application/vnd.jupyter.widget-state+json": {
    "state": {},
    "version_major": 2,
    "version_minor": 0
   }
  }
 },
 "nbformat": 4,
 "nbformat_minor": 5
}
